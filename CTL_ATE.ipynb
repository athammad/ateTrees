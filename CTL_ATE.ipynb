{
  "nbformat": 4,
  "nbformat_minor": 0,
  "metadata": {
    "colab": {
      "name": "CTL_ATE",
      "provenance": [],
      "collapsed_sections": [],
      "authorship_tag": "ABX9TyPkSLJLxEb83Q1+6lK1c5Sh",
      "include_colab_link": true
    },
    "kernelspec": {
      "name": "python3",
      "display_name": "Python 3"
    }
  },
  "cells": [
    {
      "cell_type": "markdown",
      "metadata": {
        "id": "view-in-github",
        "colab_type": "text"
      },
      "source": [
        "<a href=\"https://colab.research.google.com/github/athammad/ateTrees/blob/main/CTL_ATE.ipynb\" target=\"_parent\"><img src=\"https://colab.research.google.com/assets/colab-badge.svg\" alt=\"Open In Colab\"/></a>"
      ]
    },
    {
      "cell_type": "code",
      "metadata": {
        "id": "JyvTo1CUThEw",
        "colab": {
          "base_uri": "https://localhost:8080/",
          "height": 283
        },
        "outputId": "33112b7f-5fc5-46f9-bc3b-6f0130293df0"
      },
      "source": [
        "!pip install causal_tree_learn"
      ],
      "execution_count": null,
      "outputs": [
        {
          "output_type": "stream",
          "text": [
            "Collecting causal_tree_learn\n",
            "\u001b[?25l  Downloading https://files.pythonhosted.org/packages/e3/26/252c1f0ff0a2a9cab2b4981fddbe3607ca7943f59fb36695cd555a8127e1/causal_tree_learn-2.41.tar.gz (122kB)\n",
            "\r\u001b[K     |██▊                             | 10kB 15.6MB/s eta 0:00:01\r\u001b[K     |█████▍                          | 20kB 1.5MB/s eta 0:00:01\r\u001b[K     |████████                        | 30kB 2.0MB/s eta 0:00:01\r\u001b[K     |██████████▊                     | 40kB 1.6MB/s eta 0:00:01\r\u001b[K     |█████████████▍                  | 51kB 1.8MB/s eta 0:00:01\r\u001b[K     |████████████████                | 61kB 2.1MB/s eta 0:00:01\r\u001b[K     |██████████████████▊             | 71kB 2.3MB/s eta 0:00:01\r\u001b[K     |█████████████████████▍          | 81kB 2.5MB/s eta 0:00:01\r\u001b[K     |████████████████████████        | 92kB 2.7MB/s eta 0:00:01\r\u001b[K     |██████████████████████████▊     | 102kB 2.6MB/s eta 0:00:01\r\u001b[K     |█████████████████████████████▍  | 112kB 2.6MB/s eta 0:00:01\r\u001b[K     |████████████████████████████████| 122kB 2.6MB/s \n",
            "\u001b[?25hRequirement already satisfied: numpy in /usr/local/lib/python3.6/dist-packages (from causal_tree_learn) (1.18.5)\n",
            "Requirement already satisfied: scikit-learn in /usr/local/lib/python3.6/dist-packages (from causal_tree_learn) (0.22.2.post1)\n",
            "Requirement already satisfied: scipy in /usr/local/lib/python3.6/dist-packages (from causal_tree_learn) (1.4.1)\n",
            "Requirement already satisfied: joblib>=0.11 in /usr/local/lib/python3.6/dist-packages (from scikit-learn->causal_tree_learn) (0.16.0)\n",
            "Building wheels for collected packages: causal-tree-learn\n",
            "  Building wheel for causal-tree-learn (setup.py) ... \u001b[?25l\u001b[?25hdone\n",
            "  Created wheel for causal-tree-learn: filename=causal_tree_learn-2.41-cp36-cp36m-linux_x86_64.whl size=406195 sha256=9b8ab15125192e8afaa83a9790c87c4519685c8ae696f37d35c6049b1708c90c\n",
            "  Stored in directory: /root/.cache/pip/wheels/4d/c1/c5/c035132edf632cef6fe046cbab48b5a9e2ccc46bbd0cba1b1c\n",
            "Successfully built causal-tree-learn\n",
            "Installing collected packages: causal-tree-learn\n",
            "Successfully installed causal-tree-learn-2.41\n"
          ],
          "name": "stdout"
        }
      ]
    },
    {
      "cell_type": "code",
      "metadata": {
        "id": "ziFD9IKxfPoM"
      },
      "source": [
        "import numpy as np\n",
        "\n",
        "def bootstrap(data, n=1000, func=np.mean):\n",
        "    \"\"\"\n",
        "    Generate `n` bootstrap samples, evaluating `func`\n",
        "    at each resampling. `bootstrap` returns a function,\n",
        "    which can be called to obtain confidence intervals\n",
        "    of interest.\n",
        "    \"\"\"\n",
        "    simulations = list()\n",
        "    sample_size = len(data)\n",
        "    xbar_init = np.mean(data)\n",
        "    for c in range(n):\n",
        "        itersample = np.random.choice(data, size=sample_size, replace=True)\n",
        "        simulations.append(func(itersample))\n",
        "    simulations.sort()\n",
        "    def ci(p):\n",
        "        \"\"\"\n",
        "        Return 2-sided symmetric confidence interval specified\n",
        "        by p.\n",
        "        \"\"\"\n",
        "        u_pval = (1+p)/2.\n",
        "        l_pval = (1-u_pval)\n",
        "        l_indx = int(np.floor(n*l_pval))\n",
        "        u_indx = int(np.floor(n*u_pval))\n",
        "        return(simulations[l_indx],simulations[u_indx])\n",
        "    return(ci)"
      ],
      "execution_count": null,
      "outputs": []
    },
    {
      "cell_type": "code",
      "metadata": {
        "id": "JvgBfn5Dw_vI",
        "colab": {
          "base_uri": "https://localhost:8080/",
          "height": 72
        },
        "outputId": "9bf8ef02-3fdb-4387-f20f-4334d0fdd037"
      },
      "source": [
        "\n",
        "\n",
        "import pandas as pd\n",
        "from CTL.causal_tree_learn import CausalTree\n",
        "from sklearn.model_selection import train_test_split\n",
        "import numpy as np\n",
        "import statistics \n",
        "\n",
        "asthma = pd.read_csv('https://raw.githubusercontent.com/edgeslab/CTL/master/data/asthma.txt', delimiter=' ', index_col=None)\n",
        "\n",
        "asthma.columns = ['physician', 'age', 'sex', 'education', 'insurance', 'drug coverage', 'severity',\n",
        "                  'comorbidity', 'physical comorbidity', 'mental comorbidity', 'satisfaction']\n",
        "\n",
        "\n",
        "y = asthma['satisfaction'].values\n",
        "treatment = asthma['physician'].values\n",
        "\n",
        "x = asthma.drop(['satisfaction', 'physician'], axis=1).values\n",
        "\n",
        "columns = asthma.drop(['satisfaction', 'physician'], axis=1).columns\n",
        "\n",
        "y[y == 0] = -1\n",
        "\n",
        "treatment[treatment == 1] = 0\n",
        "treatment[treatment == 2] = 1\n",
        "\n",
        "\n",
        "#np.random.seed(0)\n",
        "resultCTL= []\n",
        "\n",
        "for i in range(100):\n",
        "  x_train, x_test, y_train, y_test, treat_train, treat_test = train_test_split(x, y, treatment,\n",
        "                                                                             test_size=0.5,random_state=i)\n",
        "  \n",
        "  # val honest CTL\n",
        "  cthv = CausalTree(val_honest=True)\n",
        "  cthv.fit(x_train, y_train, treat_train)\n",
        "  cthv.prune()\n",
        "  cthv_predict = cthv.predict(x_test)\n",
        "\n",
        "  \n",
        "  resultMean=statistics.mean(cthv_predict)\n",
        "  resultCTL.append(resultMean)\n",
        "\n",
        "\n",
        "\n",
        "boot = bootstrap(resultCTL, n=5000)\n",
        "cintervals = [boot(i) for i in (.90, .95, .99, .995)]\n",
        "\n",
        "import statistics \n",
        "print(statistics.mean(resultCTL))\n",
        "print(cintervals)\n",
        "\n",
        "\n"
      ],
      "execution_count": null,
      "outputs": [
        {
          "output_type": "stream",
          "text": [
            "-0.3337509646763404\n",
            "[(-0.36199089530477496, -0.30442462146930077), (-0.36693727540149207, -0.29896505999932255), (-0.37752821700944417, -0.289378810994651), (-0.3828225359676973, -0.2840006528557211)]\n"
          ],
          "name": "stdout"
        }
      ]
    }
  ]
}